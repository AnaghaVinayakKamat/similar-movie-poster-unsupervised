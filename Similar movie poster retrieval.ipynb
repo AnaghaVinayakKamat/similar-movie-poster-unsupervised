{
 "cells": [
  {
   "cell_type": "markdown",
   "metadata": {
    "id": "06zndiBoryUR"
   },
   "source": [
    "# Similar Movie Poster Retrieval using Neural Networks with and without fine-tuning"
   ]
  },
  {
   "cell_type": "markdown",
   "metadata": {
    "id": "tgskTGVLryUW"
   },
   "source": [
    "### Dataset Credits\n",
    "\n",
    "The original csv file is from: \n",
    "\n",
    "https://www.kaggle.com/datasets/neha1703/movie-genre-from-its-poster\n",
    "\n",
    "I have added the *year* column for convenience.\n",
    "\n",
    "I believe most of the information is originally from the famous MovieLens dataset:\n",
    "\n",
    "* https://grouplens.org/datasets/movielens/\n",
    "* https://movielens.org/\n",
    "\n",
    "\n",
    "To create the dataset we are using, I have randomly sampled a small proportion of the URLs in the csv, and downloaded the images. I have removed those which fail to download. Code below also filters out those which are in black and white, ie 1 channel only."
   ]
  },
  {
   "cell_type": "markdown",
   "metadata": {
    "id": "plBNiu9hryUW"
   },
   "source": [
    "### Import"
   ]
  },
  {
   "cell_type": "code",
   "execution_count": 22,
   "metadata": {
    "id": "RP8tS2YZryUW"
   },
   "outputs": [],
   "source": [
    "import numpy as np\n",
    "import pandas as pd\n",
    "import os\n",
    "from PIL import Image   # for accessing images\n",
    "import matplotlib.pyplot as plt\n",
    "from scipy.spatial.distance import cdist # useful for distances in the embedding"
   ]
  },
  {
   "cell_type": "code",
   "execution_count": 23,
   "metadata": {
    "id": "3wgPhRbhryUX"
   },
   "outputs": [],
   "source": [
    "import tensorflow as tf   # opensource machine learning library\n",
    "from tensorflow import keras\n",
    "from keras import layers, models"
   ]
  },
  {
   "cell_type": "code",
   "execution_count": 24,
   "metadata": {
    "id": "3aOxgnLzryUY"
   },
   "outputs": [],
   "source": [
    "# walk the directory containing posters and read them in. all are the same shape: (268, 182).\n",
    "# all have 3 channels, with a few exceptions (see below).\n",
    "# each is named <imdbId>.jpg, which will later allow us to get the metadata from the csv.\n",
    "IDs = []\n",
    "images = []\n",
    "for dirname, _, filenames in os.walk('DL_Sample'):\n",
    "    for filename in filenames:\n",
    "        if filename.endswith(\".jpg\"):\n",
    "            ID = int(filename[:-4])\n",
    "            pathname = os.path.join(dirname, filename)\n",
    "            im = Image.open(pathname)\n",
    "            imnp = np.array(im, dtype=float)\n",
    "            if len(imnp.shape) != 3: # we'll ignore a few black-and-white (1 channel) images\n",
    "                print(\"This is 1 channel, so we omit it\", imnp.shape, filename)\n",
    "                continue # do not add to our list\n",
    "            IDs.append(ID)\n",
    "            images.append(imnp)"
   ]
  },
  {
   "cell_type": "code",
   "execution_count": 25,
   "metadata": {
    "id": "FOPSrRYLryUZ"
   },
   "outputs": [],
   "source": [
    "img_array = np.array(images)"
   ]
  },
  {
   "cell_type": "code",
   "execution_count": 26,
   "metadata": {
    "colab": {
     "base_uri": "https://localhost:8080/"
    },
    "id": "I_BHmxp-ryUZ",
    "outputId": "88185d8f-4457-4a6b-b8ed-98e946ce4062"
   },
   "outputs": [
    {
     "data": {
      "text/plain": [
       "(1238, 268, 182, 3)"
      ]
     },
     "execution_count": 26,
     "metadata": {},
     "output_type": "execute_result"
    }
   ],
   "source": [
    "img_array.shape"
   ]
  },
  {
   "cell_type": "code",
   "execution_count": 27,
   "metadata": {
    "colab": {
     "base_uri": "https://localhost:8080/",
     "height": 458
    },
    "id": "-6i4v39dryUZ",
    "outputId": "e5af0c80-c57d-425e-9c1a-9defb3364062"
   },
   "outputs": [
    {
     "data": {
      "text/html": [
       "\n",
       "  <div id=\"df-0b3bd0f6-63c8-40c9-beb6-036d0e276d91\">\n",
       "    <div class=\"colab-df-container\">\n",
       "      <div>\n",
       "<style scoped>\n",
       "    .dataframe tbody tr th:only-of-type {\n",
       "        vertical-align: middle;\n",
       "    }\n",
       "\n",
       "    .dataframe tbody tr th {\n",
       "        vertical-align: top;\n",
       "    }\n",
       "\n",
       "    .dataframe thead th {\n",
       "        text-align: right;\n",
       "    }\n",
       "</style>\n",
       "<table border=\"1\" class=\"dataframe\">\n",
       "  <thead>\n",
       "    <tr style=\"text-align: right;\">\n",
       "      <th></th>\n",
       "      <th>imdbId</th>\n",
       "      <th>Imdb Link</th>\n",
       "      <th>Title</th>\n",
       "      <th>IMDB Score</th>\n",
       "      <th>Genre</th>\n",
       "      <th>Poster</th>\n",
       "      <th>Year</th>\n",
       "    </tr>\n",
       "  </thead>\n",
       "  <tbody>\n",
       "    <tr>\n",
       "      <th>0</th>\n",
       "      <td>114709</td>\n",
       "      <td>http://www.imdb.com/title/tt114709</td>\n",
       "      <td>Toy Story (1995)</td>\n",
       "      <td>8.3</td>\n",
       "      <td>Animation|Adventure|Comedy</td>\n",
       "      <td>https://images-na.ssl-images-amazon.com/images...</td>\n",
       "      <td>1995.0</td>\n",
       "    </tr>\n",
       "    <tr>\n",
       "      <th>1</th>\n",
       "      <td>113497</td>\n",
       "      <td>http://www.imdb.com/title/tt113497</td>\n",
       "      <td>Jumanji (1995)</td>\n",
       "      <td>6.9</td>\n",
       "      <td>Action|Adventure|Family</td>\n",
       "      <td>https://images-na.ssl-images-amazon.com/images...</td>\n",
       "      <td>1995.0</td>\n",
       "    </tr>\n",
       "    <tr>\n",
       "      <th>2</th>\n",
       "      <td>113228</td>\n",
       "      <td>http://www.imdb.com/title/tt113228</td>\n",
       "      <td>Grumpier Old Men (1995)</td>\n",
       "      <td>6.6</td>\n",
       "      <td>Comedy|Romance</td>\n",
       "      <td>https://images-na.ssl-images-amazon.com/images...</td>\n",
       "      <td>1995.0</td>\n",
       "    </tr>\n",
       "    <tr>\n",
       "      <th>3</th>\n",
       "      <td>114885</td>\n",
       "      <td>http://www.imdb.com/title/tt114885</td>\n",
       "      <td>Waiting to Exhale (1995)</td>\n",
       "      <td>5.7</td>\n",
       "      <td>Comedy|Drama|Romance</td>\n",
       "      <td>https://images-na.ssl-images-amazon.com/images...</td>\n",
       "      <td>1995.0</td>\n",
       "    </tr>\n",
       "    <tr>\n",
       "      <th>4</th>\n",
       "      <td>113041</td>\n",
       "      <td>http://www.imdb.com/title/tt113041</td>\n",
       "      <td>Father of the Bride Part II (1995)</td>\n",
       "      <td>5.9</td>\n",
       "      <td>Comedy|Family|Romance</td>\n",
       "      <td>https://images-na.ssl-images-amazon.com/images...</td>\n",
       "      <td>1995.0</td>\n",
       "    </tr>\n",
       "  </tbody>\n",
       "</table>\n",
       "</div>\n",
       "      <button class=\"colab-df-convert\" onclick=\"convertToInteractive('df-0b3bd0f6-63c8-40c9-beb6-036d0e276d91')\"\n",
       "              title=\"Convert this dataframe to an interactive table.\"\n",
       "              style=\"display:none;\">\n",
       "        \n",
       "  <svg xmlns=\"http://www.w3.org/2000/svg\" height=\"24px\"viewBox=\"0 0 24 24\"\n",
       "       width=\"24px\">\n",
       "    <path d=\"M0 0h24v24H0V0z\" fill=\"none\"/>\n",
       "    <path d=\"M18.56 5.44l.94 2.06.94-2.06 2.06-.94-2.06-.94-.94-2.06-.94 2.06-2.06.94zm-11 1L8.5 8.5l.94-2.06 2.06-.94-2.06-.94L8.5 2.5l-.94 2.06-2.06.94zm10 10l.94 2.06.94-2.06 2.06-.94-2.06-.94-.94-2.06-.94 2.06-2.06.94z\"/><path d=\"M17.41 7.96l-1.37-1.37c-.4-.4-.92-.59-1.43-.59-.52 0-1.04.2-1.43.59L10.3 9.45l-7.72 7.72c-.78.78-.78 2.05 0 2.83L4 21.41c.39.39.9.59 1.41.59.51 0 1.02-.2 1.41-.59l7.78-7.78 2.81-2.81c.8-.78.8-2.07 0-2.86zM5.41 20L4 18.59l7.72-7.72 1.47 1.35L5.41 20z\"/>\n",
       "  </svg>\n",
       "      </button>\n",
       "      \n",
       "  <style>\n",
       "    .colab-df-container {\n",
       "      display:flex;\n",
       "      flex-wrap:wrap;\n",
       "      gap: 12px;\n",
       "    }\n",
       "\n",
       "    .colab-df-convert {\n",
       "      background-color: #E8F0FE;\n",
       "      border: none;\n",
       "      border-radius: 50%;\n",
       "      cursor: pointer;\n",
       "      display: none;\n",
       "      fill: #1967D2;\n",
       "      height: 32px;\n",
       "      padding: 0 0 0 0;\n",
       "      width: 32px;\n",
       "    }\n",
       "\n",
       "    .colab-df-convert:hover {\n",
       "      background-color: #E2EBFA;\n",
       "      box-shadow: 0px 1px 2px rgba(60, 64, 67, 0.3), 0px 1px 3px 1px rgba(60, 64, 67, 0.15);\n",
       "      fill: #174EA6;\n",
       "    }\n",
       "\n",
       "    [theme=dark] .colab-df-convert {\n",
       "      background-color: #3B4455;\n",
       "      fill: #D2E3FC;\n",
       "    }\n",
       "\n",
       "    [theme=dark] .colab-df-convert:hover {\n",
       "      background-color: #434B5C;\n",
       "      box-shadow: 0px 1px 3px 1px rgba(0, 0, 0, 0.15);\n",
       "      filter: drop-shadow(0px 1px 2px rgba(0, 0, 0, 0.3));\n",
       "      fill: #FFFFFF;\n",
       "    }\n",
       "  </style>\n",
       "\n",
       "      <script>\n",
       "        const buttonEl =\n",
       "          document.querySelector('#df-0b3bd0f6-63c8-40c9-beb6-036d0e276d91 button.colab-df-convert');\n",
       "        buttonEl.style.display =\n",
       "          google.colab.kernel.accessAllowed ? 'block' : 'none';\n",
       "\n",
       "        async function convertToInteractive(key) {\n",
       "          const element = document.querySelector('#df-0b3bd0f6-63c8-40c9-beb6-036d0e276d91');\n",
       "          const dataTable =\n",
       "            await google.colab.kernel.invokeFunction('convertToInteractive',\n",
       "                                                     [key], {});\n",
       "          if (!dataTable) return;\n",
       "\n",
       "          const docLinkHtml = 'Like what you see? Visit the ' +\n",
       "            '<a target=\"_blank\" href=https://colab.research.google.com/notebooks/data_table.ipynb>data table notebook</a>'\n",
       "            + ' to learn more about interactive tables.';\n",
       "          element.innerHTML = '';\n",
       "          dataTable['output_type'] = 'display_data';\n",
       "          await google.colab.output.renderOutput(dataTable, element);\n",
       "          const docLink = document.createElement('div');\n",
       "          docLink.innerHTML = docLinkHtml;\n",
       "          element.appendChild(docLink);\n",
       "        }\n",
       "      </script>\n",
       "    </div>\n",
       "  </div>\n",
       "  "
      ],
      "text/plain": [
       "   imdbId                           Imdb Link  \\\n",
       "0  114709  http://www.imdb.com/title/tt114709   \n",
       "1  113497  http://www.imdb.com/title/tt113497   \n",
       "2  113228  http://www.imdb.com/title/tt113228   \n",
       "3  114885  http://www.imdb.com/title/tt114885   \n",
       "4  113041  http://www.imdb.com/title/tt113041   \n",
       "\n",
       "                                Title  IMDB Score                       Genre  \\\n",
       "0                    Toy Story (1995)         8.3  Animation|Adventure|Comedy   \n",
       "1                      Jumanji (1995)         6.9     Action|Adventure|Family   \n",
       "2             Grumpier Old Men (1995)         6.6              Comedy|Romance   \n",
       "3            Waiting to Exhale (1995)         5.7        Comedy|Drama|Romance   \n",
       "4  Father of the Bride Part II (1995)         5.9       Comedy|Family|Romance   \n",
       "\n",
       "                                              Poster    Year  \n",
       "0  https://images-na.ssl-images-amazon.com/images...  1995.0  \n",
       "1  https://images-na.ssl-images-amazon.com/images...  1995.0  \n",
       "2  https://images-na.ssl-images-amazon.com/images...  1995.0  \n",
       "3  https://images-na.ssl-images-amazon.com/images...  1995.0  \n",
       "4  https://images-na.ssl-images-amazon.com/images...  1995.0  "
      ]
     },
     "execution_count": 27,
     "metadata": {},
     "output_type": "execute_result"
    }
   ],
   "source": [
    "# read the csv\n",
    "df = pd.read_csv(\"Movie_Genre_Year_Poster.csv\", encoding=\"ISO-8859-1\", index_col=\"Unnamed: 0\")\n",
    "df.head()"
   ]
  },
  {
   "cell_type": "code",
   "execution_count": 28,
   "metadata": {
    "id": "Jf6DsWPvryUa"
   },
   "outputs": [],
   "source": [
    "df2 = df.drop_duplicates(subset=[\"imdbId\"]) # some imdbId values are duplicates - just drop"
   ]
  },
  {
   "cell_type": "code",
   "execution_count": 29,
   "metadata": {
    "id": "h5dG0iw3ryUa"
   },
   "outputs": [],
   "source": [
    "df3 = df2.set_index(\"imdbId\") # the imdbId is a more useful index, eg as in the next cell..."
   ]
  },
  {
   "cell_type": "code",
   "execution_count": 30,
   "metadata": {
    "id": "O3NpUMdAryUa"
   },
   "outputs": [],
   "source": [
    "df4 = df3.loc[IDs] # ... we can now use .loc to take a subset"
   ]
  },
  {
   "cell_type": "code",
   "execution_count": 31,
   "metadata": {
    "colab": {
     "base_uri": "https://localhost:8080/"
    },
    "id": "4ijELjXWryUa",
    "outputId": "ae835018-f4a8-40a4-e1a8-41528fb9fa2a"
   },
   "outputs": [
    {
     "data": {
      "text/plain": [
       "(1238, 6)"
      ]
     },
     "execution_count": 31,
     "metadata": {},
     "output_type": "execute_result"
    }
   ],
   "source": [
    "df4.shape # 1238 rows matches the image data shape above"
   ]
  },
  {
   "cell_type": "code",
   "execution_count": 32,
   "metadata": {
    "colab": {
     "base_uri": "https://localhost:8080/"
    },
    "id": "2_6wPe0BryUa",
    "outputId": "8278242b-4b1c-4425-d174-08e27d015b71"
   },
   "outputs": [
    {
     "name": "stdout",
     "output_type": "stream",
     "text": [
      "1888.0 2016.0\n"
     ]
    }
   ],
   "source": [
    "years = df4[\"Year\"].values\n",
    "titles = df4[\"Title\"].values\n",
    "\n",
    "assert img_array.shape[0] == years.shape[0] == titles.shape[0]\n",
    "assert all(np.isfinite(years)) # no missing values in years\n",
    "print(years.min(), years.max())"
   ]
  },
  {
   "cell_type": "code",
   "execution_count": 33,
   "metadata": {
    "id": "VYpcu_WUryUb"
   },
   "outputs": [],
   "source": [
    "def imread(filename):\n",
    "    \"\"\"Convenience function: we can supply an ID or a filename.\n",
    "    We read and return the image in Image format.\n",
    "    \"\"\"\n",
    "    \n",
    "    if type(filename) == int:\n",
    "        # assume its an ID, so create filename\n",
    "        filename = f\"DL_Sample/{filename}.jpg\"\n",
    "        \n",
    "    # now we can assume it's a filename, so open and read\n",
    "    im = Image.open(filename)\n",
    "    \n",
    "    return im\n",
    "\n",
    "def imshow(im):\n",
    "    plt.imshow(im)\n",
    "    plt.axis('off')"
   ]
  },
  {
   "cell_type": "markdown",
   "metadata": {
    "id": "BLCgGS2hryUb"
   },
   "source": [
    "### Part 1. Create embedding\n",
    "\n",
    "Here we are using ResNet50 to create a flat (ie 1D) embedding vector of some size `embedding_size` for each movie poster, and putting all of these together into a single tensor of shape `(n_movies, embedding_size)`."
   ]
  },
  {
   "cell_type": "code",
   "execution_count": 34,
   "metadata": {
    "colab": {
     "base_uri": "https://localhost:8080/"
    },
    "id": "5XlD_GLyryUb",
    "outputId": "da241005-9558-40f9-894b-a9dd6b4ce836"
   },
   "outputs": [
    {
     "name": "stdout",
     "output_type": "stream",
     "text": [
      "Downloading data from https://storage.googleapis.com/tensorflow/keras-applications/resnet/resnet50_weights_tf_dim_ordering_tf_kernels_notop.h5\n",
      "94765736/94765736 [==============================] - 6s 0us/step\n",
      "39/39 [==============================] - 14s 107ms/step\n",
      "(1238, 110592)\n",
      "True\n",
      "True\n"
     ]
    }
   ],
   "source": [
    "#importing libraries and layers\n",
    "from tensorflow.keras.applications import ResNet50\n",
    "from tensorflow.keras.applications.resnet50 import preprocess_input\n",
    "from tensorflow.keras import layers, models\n",
    "from tensorflow.keras.callbacks import EarlyStopping\n",
    "from keras.layers import Dense, Activation, Flatten\n",
    "\n",
    "\n",
    "n_movies = img_array.shape[0]\n",
    "embedding_size = 4\n",
    "\n",
    "X = tf.zeros((n_movies, embedding_size))\n",
    "\n",
    "# Here, I am implementing ResNet50 because we can use it to add more layers without going into vanishing gradient\n",
    "\n",
    "base_model = ResNet50(weights='imagenet', \n",
    "                 input_shape=img_array[0].shape, \n",
    "                 include_top=False)\n",
    "\n",
    "\n",
    "base_model.trainable = False\n",
    "\n",
    "#Implementing sequential model of keras\n",
    "model = models.Sequential([\n",
    "    base_model,\n",
    "])\n",
    "model.add(Flatten())#Flattening to convert it into 1-D \n",
    "\n",
    "\n",
    "for i in range(n_movies):\n",
    "    img = img_array[i]\n",
    "    img = np.expand_dims(img, axis=0)\n",
    "    img = preprocess_input(img)\n",
    "\n",
    "X = model.predict(img_array)\n",
    "\n",
    "    \n",
    "print(X.shape)\n",
    "\n",
    "    \n",
    "print(len(X.shape) == 2) # X should be (n_movies, embedding_size)\n",
    "print(X.shape[0] == n_movies)"
   ]
  },
  {
   "cell_type": "markdown",
   "metadata": {},
   "source": [
    "<b>References</b>\n",
    "https://towardsdatascience.com/transfer-learning-with-vgg16-and-keras-50ea161580b4\n"
   ]
  },
  {
   "cell_type": "markdown",
   "metadata": {
    "id": "U-U8yMZGryUc"
   },
   "source": [
    "### Part 2. Define a nearest-neighbour function\n",
    "\n",
    "`def nearest(img, k)` accepts an image `img`, and returns the `k` movies in the dataset whose posters are most similar to `img` (as measured in the embedding), ranked by similarity. "
   ]
  },
  {
   "cell_type": "code",
   "execution_count": 35,
   "metadata": {
    "id": "FA-BFq8BryUc"
   },
   "outputs": [],
   "source": [
    "def k_nearest(img, k):\n",
    "        \n",
    "    img = np.expand_dims(img,0)\n",
    "    img = preprocess_input(img)\n",
    "    embeddings = model.predict(img)\n",
    "    distances = cdist(embeddings, X, metric='euclidean')  #Using distance metric as Euclidean\n",
    "    sorted_movies = np.argsort(distances[0])\n",
    "    \n",
    "    \n",
    "    return sorted_movies[:k]#ranking the movies in the order\n",
    "    "
   ]
  },
  {
   "cell_type": "markdown",
   "metadata": {},
   "source": [
    "<b>References</b><br>\n",
    "https://docs.scipy.org/doc/scipy/reference/generated/scipy.spatial.distance.cdist.html<br>\n",
    "https://numpy.org/doc/stable/reference/generated/numpy.argsort.html<br>"
   ]
  },
  {
   "cell_type": "markdown",
   "metadata": {
    "id": "Uqfu0Z6EryUc"
   },
   "source": [
    "### Part 3: Demonstrate nearest-neighbour function\n",
    "\n",
    "Here we choose a rando, movie poster. Call this the query poster. Show it, and use our nearest-neighbour function to show the 3 nearest neighbours (excluding the query itself)."
   ]
  },
  {
   "cell_type": "code",
   "execution_count": 36,
   "metadata": {
    "colab": {
     "base_uri": "https://localhost:8080/",
     "height": 1000
    },
    "id": "dpfp3K_bryUc",
    "outputId": "444dd6d3-0f29-4121-9ed5-2f62c242f614"
   },
   "outputs": [
    {
     "name": "stdout",
     "output_type": "stream",
     "text": [
      "1/1 [==============================] - 1s 649ms/step\n"
     ]
    },
    {
     "name": "stderr",
     "output_type": "stream",
     "text": [
      "WARNING:matplotlib.image:Clipping input data to the valid range for imshow with RGB data ([0..1] for floats or [0..255] for integers).\n"
     ]
    },
    {
     "name": "stdout",
     "output_type": "stream",
     "text": [
      "[666 998 410  17]\n"
     ]
    },
    {
     "data": {
      "image/png": "[encoded data removed]",
      "text/plain": [
       "<Figure size 432x288 with 1 Axes>"
      ]
     },
     "metadata": {
      "needs_background": "light"
     },
     "output_type": "display_data"
    },
    {
     "name": "stderr",
     "output_type": "stream",
     "text": [
      "WARNING:matplotlib.image:Clipping input data to the valid range for imshow with RGB data ([0..1] for floats or [0..255] for integers).\n"
     ]
    },
    {
     "data": {
      "image/png": "[encoded data removed]",
      "text/plain": [
       "<Figure size 432x288 with 1 Axes>"
      ]
     },
     "metadata": {
      "needs_background": "light"
     },
     "output_type": "display_data"
    },
    {
     "name": "stderr",
     "output_type": "stream",
     "text": [
      "WARNING:matplotlib.image:Clipping input data to the valid range for imshow with RGB data ([0..1] for floats or [0..255] for integers).\n"
     ]
    },
    {
     "data": {
      "image/png": "[encoded data removed]",
      "text/plain": [
       "<Figure size 432x288 with 1 Axes>"
      ]
     },
     "metadata": {
      "needs_background": "light"
     },
     "output_type": "display_data"
    },
    {
     "name": "stderr",
     "output_type": "stream",
     "text": [
      "WARNING:matplotlib.image:Clipping input data to the valid range for imshow with RGB data ([0..1] for floats or [0..255] for integers).\n"
     ]
    },
    {
     "data": {
      "image/png": "[encoded data removed]",
      "text/plain": [
       "<Figure size 432x288 with 1 Axes>"
      ]
     },
     "metadata": {
      "needs_background": "light"
     },
     "output_type": "display_data"
    }
   ],
   "source": [
    "Q_idx = 19649 # YOUR VALUE HERE - DO NOT USE MY VALUE\n",
    "\n",
    "img = np.array(imread(Q_idx))\n",
    "result = k_nearest(img, 4)#Calling the k_nearest function from above\n",
    "\n",
    "print(result)\n",
    "\n",
    "for i in result: \n",
    "    plt.imshow(img_array[i]),plt.axis('off') # show the rotated image\n",
    "    plt.show()"
   ]
  },
  {
   "cell_type": "markdown",
   "metadata": {
    "id": "1og6CUxZryUd"
   },
   "source": [
    "### Part 4: Year regression\n",
    "\n",
    "Here, we will attempt to predict the year, given the poster. We will build a suitable Keras neural network model for this, **as a regression head on top of the embedding from Part 1**. It should be possible to make a prediction, given a new poster (not part of the original dataset). "
   ]
  },
  {
   "cell_type": "code",
   "execution_count": 38,
   "metadata": {
    "colab": {
     "base_uri": "https://localhost:8080/"
    },
    "id": "4AUUprPxryUd",
    "outputId": "919aa8d1-9f12-4ac7-a0c4-c081bf60a30c",
    "scrolled": true
   },
   "outputs": [
    {
     "name": "stdout",
     "output_type": "stream",
     "text": [
      "Epoch 1/50\n",
      "31/31 [==============================] - ETA: 0s - loss: 2263657.5000 - mae: 1457.4188"
     ]
    },
    {
     "name": "stderr",
     "output_type": "stream",
     "text": [
      "WARNING:tensorflow:Early stopping conditioned on metric `accuracy` which is not available. Available metrics are: loss,mae,val_loss,val_mae\n"
     ]
    },
    {
     "name": "stdout",
     "output_type": "stream",
     "text": [
      "31/31 [==============================] - 13s 261ms/step - loss: 2263657.5000 - mae: 1457.4188 - val_loss: 487105.9688 - val_mae: 695.4047\n",
      "Epoch 2/50\n",
      "31/31 [==============================] - ETA: 0s - loss: 91076.0078 - mae: 242.2123"
     ]
    },
    {
     "name": "stderr",
     "output_type": "stream",
     "text": [
      "WARNING:tensorflow:Early stopping conditioned on metric `accuracy` which is not available. Available metrics are: loss,mae,val_loss,val_mae\n"
     ]
    },
    {
     "name": "stdout",
     "output_type": "stream",
     "text": [
      "31/31 [==============================] - 4s 140ms/step - loss: 91076.0078 - mae: 242.2123 - val_loss: 20523.5293 - val_mae: 118.3094\n",
      "Epoch 3/50\n",
      "31/31 [==============================] - ETA: 0s - loss: 9501.6680 - mae: 78.0956"
     ]
    },
    {
     "name": "stderr",
     "output_type": "stream",
     "text": [
      "WARNING:tensorflow:Early stopping conditioned on metric `accuracy` which is not available. Available metrics are: loss,mae,val_loss,val_mae\n"
     ]
    },
    {
     "name": "stdout",
     "output_type": "stream",
     "text": [
      "31/31 [==============================] - 4s 139ms/step - loss: 9501.6680 - mae: 78.0956 - val_loss: 6698.1270 - val_mae: 64.2629\n",
      "Epoch 4/50\n",
      "31/31 [==============================] - ETA: 0s - loss: 6096.2192 - mae: 62.1755"
     ]
    },
    {
     "name": "stderr",
     "output_type": "stream",
     "text": [
      "WARNING:tensorflow:Early stopping conditioned on metric `accuracy` which is not available. Available metrics are: loss,mae,val_loss,val_mae\n"
     ]
    },
    {
     "name": "stdout",
     "output_type": "stream",
     "text": [
      "31/31 [==============================] - 4s 141ms/step - loss: 6096.2192 - mae: 62.1755 - val_loss: 5841.1279 - val_mae: 59.5280\n",
      "Epoch 5/50\n",
      "31/31 [==============================] - ETA: 0s - loss: 5510.6006 - mae: 59.0368"
     ]
    },
    {
     "name": "stderr",
     "output_type": "stream",
     "text": [
      "WARNING:tensorflow:Early stopping conditioned on metric `accuracy` which is not available. Available metrics are: loss,mae,val_loss,val_mae\n"
     ]
    },
    {
     "name": "stdout",
     "output_type": "stream",
     "text": [
      "31/31 [==============================] - 4s 122ms/step - loss: 5510.6006 - mae: 59.0368 - val_loss: 5235.2373 - val_mae: 56.3588\n",
      "Epoch 6/50\n",
      "31/31 [==============================] - ETA: 0s - loss: 4966.9468 - mae: 55.8754"
     ]
    },
    {
     "name": "stderr",
     "output_type": "stream",
     "text": [
      "WARNING:tensorflow:Early stopping conditioned on metric `accuracy` which is not available. Available metrics are: loss,mae,val_loss,val_mae\n"
     ]
    },
    {
     "name": "stdout",
     "output_type": "stream",
     "text": [
      "31/31 [==============================] - 4s 139ms/step - loss: 4966.9468 - mae: 55.8754 - val_loss: 4735.8989 - val_mae: 53.5753\n",
      "Epoch 7/50\n",
      "31/31 [==============================] - ETA: 0s - loss: 4522.8965 - mae: 53.5112"
     ]
    },
    {
     "name": "stderr",
     "output_type": "stream",
     "text": [
      "WARNING:tensorflow:Early stopping conditioned on metric `accuracy` which is not available. Available metrics are: loss,mae,val_loss,val_mae\n"
     ]
    },
    {
     "name": "stdout",
     "output_type": "stream",
     "text": [
      "31/31 [==============================] - 4s 143ms/step - loss: 4522.8965 - mae: 53.5112 - val_loss: 4354.4712 - val_mae: 51.5653\n",
      "Epoch 8/50\n",
      "31/31 [==============================] - ETA: 0s - loss: 4079.9897 - mae: 51.0336"
     ]
    },
    {
     "name": "stderr",
     "output_type": "stream",
     "text": [
      "WARNING:tensorflow:Early stopping conditioned on metric `accuracy` which is not available. Available metrics are: loss,mae,val_loss,val_mae\n"
     ]
    },
    {
     "name": "stdout",
     "output_type": "stream",
     "text": [
      "31/31 [==============================] - 4s 140ms/step - loss: 4079.9897 - mae: 51.0336 - val_loss: 4061.7734 - val_mae: 49.7136\n",
      "Epoch 9/50\n",
      "31/31 [==============================] - ETA: 0s - loss: 3769.8420 - mae: 48.8372"
     ]
    },
    {
     "name": "stderr",
     "output_type": "stream",
     "text": [
      "WARNING:tensorflow:Early stopping conditioned on metric `accuracy` which is not available. Available metrics are: loss,mae,val_loss,val_mae\n"
     ]
    },
    {
     "name": "stdout",
     "output_type": "stream",
     "text": [
      "31/31 [==============================] - 4s 140ms/step - loss: 3769.8420 - mae: 48.8372 - val_loss: 3743.6648 - val_mae: 47.8607\n",
      "Epoch 10/50\n",
      "31/31 [==============================] - ETA: 0s - loss: 3462.9067 - mae: 46.9823"
     ]
    },
    {
     "name": "stderr",
     "output_type": "stream",
     "text": [
      "WARNING:tensorflow:Early stopping conditioned on metric `accuracy` which is not available. Available metrics are: loss,mae,val_loss,val_mae\n"
     ]
    },
    {
     "name": "stdout",
     "output_type": "stream",
     "text": [
      "31/31 [==============================] - 4s 144ms/step - loss: 3462.9067 - mae: 46.9823 - val_loss: 3526.8181 - val_mae: 46.4390\n",
      "Epoch 11/50\n",
      "31/31 [==============================] - ETA: 0s - loss: 3204.9534 - mae: 45.1208"
     ]
    },
    {
     "name": "stderr",
     "output_type": "stream",
     "text": [
      "WARNING:tensorflow:Early stopping conditioned on metric `accuracy` which is not available. Available metrics are: loss,mae,val_loss,val_mae\n"
     ]
    },
    {
     "name": "stdout",
     "output_type": "stream",
     "text": [
      "31/31 [==============================] - 4s 141ms/step - loss: 3204.9534 - mae: 45.1208 - val_loss: 3359.7456 - val_mae: 45.0986\n",
      "Epoch 12/50\n",
      "31/31 [==============================] - ETA: 0s - loss: 2990.8340 - mae: 43.6082"
     ]
    },
    {
     "name": "stderr",
     "output_type": "stream",
     "text": [
      "WARNING:tensorflow:Early stopping conditioned on metric `accuracy` which is not available. Available metrics are: loss,mae,val_loss,val_mae\n"
     ]
    },
    {
     "name": "stdout",
     "output_type": "stream",
     "text": [
      "31/31 [==============================] - 4s 141ms/step - loss: 2990.8340 - mae: 43.6082 - val_loss: 3189.3254 - val_mae: 43.9998\n",
      "Epoch 13/50\n",
      "31/31 [==============================] - ETA: 0s - loss: 2805.4177 - mae: 42.2408"
     ]
    },
    {
     "name": "stderr",
     "output_type": "stream",
     "text": [
      "WARNING:tensorflow:Early stopping conditioned on metric `accuracy` which is not available. Available metrics are: loss,mae,val_loss,val_mae\n"
     ]
    },
    {
     "name": "stdout",
     "output_type": "stream",
     "text": [
      "31/31 [==============================] - 4s 143ms/step - loss: 2805.4177 - mae: 42.2408 - val_loss: 3016.3152 - val_mae: 43.0148\n",
      "Epoch 14/50\n",
      "31/31 [==============================] - ETA: 0s - loss: 2641.5984 - mae: 40.9349"
     ]
    },
    {
     "name": "stderr",
     "output_type": "stream",
     "text": [
      "WARNING:tensorflow:Early stopping conditioned on metric `accuracy` which is not available. Available metrics are: loss,mae,val_loss,val_mae\n"
     ]
    },
    {
     "name": "stdout",
     "output_type": "stream",
     "text": [
      "31/31 [==============================] - 4s 123ms/step - loss: 2641.5984 - mae: 40.9349 - val_loss: 2900.0032 - val_mae: 42.8794\n",
      "Epoch 15/50\n",
      "31/31 [==============================] - ETA: 0s - loss: 2527.2322 - mae: 40.0119"
     ]
    },
    {
     "name": "stderr",
     "output_type": "stream",
     "text": [
      "WARNING:tensorflow:Early stopping conditioned on metric `accuracy` which is not available. Available metrics are: loss,mae,val_loss,val_mae\n"
     ]
    },
    {
     "name": "stdout",
     "output_type": "stream",
     "text": [
      "31/31 [==============================] - 4s 141ms/step - loss: 2527.2322 - mae: 40.0119 - val_loss: 2765.8875 - val_mae: 41.4147\n",
      "Epoch 16/50\n",
      "31/31 [==============================] - ETA: 0s - loss: 2385.3887 - mae: 38.8950"
     ]
    },
    {
     "name": "stderr",
     "output_type": "stream",
     "text": [
      "WARNING:tensorflow:Early stopping conditioned on metric `accuracy` which is not available. Available metrics are: loss,mae,val_loss,val_mae\n"
     ]
    },
    {
     "name": "stdout",
     "output_type": "stream",
     "text": [
      "31/31 [==============================] - 4s 145ms/step - loss: 2385.3887 - mae: 38.8950 - val_loss: 2746.1331 - val_mae: 40.4752\n",
      "Epoch 17/50\n",
      "31/31 [==============================] - ETA: 0s - loss: 2279.9697 - mae: 38.0239"
     ]
    },
    {
     "name": "stderr",
     "output_type": "stream",
     "text": [
      "WARNING:tensorflow:Early stopping conditioned on metric `accuracy` which is not available. Available metrics are: loss,mae,val_loss,val_mae\n"
     ]
    },
    {
     "name": "stdout",
     "output_type": "stream",
     "text": [
      "31/31 [==============================] - 4s 141ms/step - loss: 2279.9697 - mae: 38.0239 - val_loss: 2599.4646 - val_mae: 39.4972\n",
      "Epoch 18/50\n",
      "31/31 [==============================] - ETA: 0s - loss: 2159.4536 - mae: 37.0098"
     ]
    },
    {
     "name": "stderr",
     "output_type": "stream",
     "text": [
      "WARNING:tensorflow:Early stopping conditioned on metric `accuracy` which is not available. Available metrics are: loss,mae,val_loss,val_mae\n"
     ]
    },
    {
     "name": "stdout",
     "output_type": "stream",
     "text": [
      "31/31 [==============================] - 4s 142ms/step - loss: 2159.4536 - mae: 37.0098 - val_loss: 2484.7783 - val_mae: 38.9214\n",
      "Epoch 19/50\n",
      "31/31 [==============================] - ETA: 0s - loss: 2070.4238 - mae: 36.1022"
     ]
    },
    {
     "name": "stderr",
     "output_type": "stream",
     "text": [
      "WARNING:tensorflow:Early stopping conditioned on metric `accuracy` which is not available. Available metrics are: loss,mae,val_loss,val_mae\n"
     ]
    },
    {
     "name": "stdout",
     "output_type": "stream",
     "text": [
      "31/31 [==============================] - 4s 124ms/step - loss: 2070.4238 - mae: 36.1022 - val_loss: 2404.8418 - val_mae: 38.1943\n",
      "Epoch 20/50\n",
      "31/31 [==============================] - ETA: 0s - loss: 1970.9368 - mae: 35.3325"
     ]
    },
    {
     "name": "stderr",
     "output_type": "stream",
     "text": [
      "WARNING:tensorflow:Early stopping conditioned on metric `accuracy` which is not available. Available metrics are: loss,mae,val_loss,val_mae\n"
     ]
    },
    {
     "name": "stdout",
     "output_type": "stream",
     "text": [
      "31/31 [==============================] - 4s 141ms/step - loss: 1970.9368 - mae: 35.3325 - val_loss: 2385.5725 - val_mae: 37.5130\n",
      "Epoch 21/50\n",
      "31/31 [==============================] - ETA: 0s - loss: 1903.7338 - mae: 34.7682"
     ]
    },
    {
     "name": "stderr",
     "output_type": "stream",
     "text": [
      "WARNING:tensorflow:Early stopping conditioned on metric `accuracy` which is not available. Available metrics are: loss,mae,val_loss,val_mae\n"
     ]
    },
    {
     "name": "stdout",
     "output_type": "stream",
     "text": [
      "31/31 [==============================] - 4s 143ms/step - loss: 1903.7338 - mae: 34.7682 - val_loss: 2260.4075 - val_mae: 36.8682\n",
      "Epoch 22/50\n",
      "31/31 [==============================] - ETA: 0s - loss: 1808.9371 - mae: 33.8073"
     ]
    },
    {
     "name": "stderr",
     "output_type": "stream",
     "text": [
      "WARNING:tensorflow:Early stopping conditioned on metric `accuracy` which is not available. Available metrics are: loss,mae,val_loss,val_mae\n"
     ]
    },
    {
     "name": "stdout",
     "output_type": "stream",
     "text": [
      "31/31 [==============================] - 4s 142ms/step - loss: 1808.9371 - mae: 33.8073 - val_loss: 2208.9539 - val_mae: 37.2602\n",
      "Epoch 23/50\n",
      "31/31 [==============================] - ETA: 0s - loss: 1794.1733 - mae: 33.9961"
     ]
    },
    {
     "name": "stderr",
     "output_type": "stream",
     "text": [
      "WARNING:tensorflow:Early stopping conditioned on metric `accuracy` which is not available. Available metrics are: loss,mae,val_loss,val_mae\n"
     ]
    },
    {
     "name": "stdout",
     "output_type": "stream",
     "text": [
      "31/31 [==============================] - 4s 142ms/step - loss: 1794.1733 - mae: 33.9961 - val_loss: 2123.0925 - val_mae: 35.8190\n",
      "Epoch 24/50\n",
      "31/31 [==============================] - ETA: 0s - loss: 1685.2318 - mae: 32.5041"
     ]
    },
    {
     "name": "stderr",
     "output_type": "stream",
     "text": [
      "WARNING:tensorflow:Early stopping conditioned on metric `accuracy` which is not available. Available metrics are: loss,mae,val_loss,val_mae\n"
     ]
    },
    {
     "name": "stdout",
     "output_type": "stream",
     "text": [
      "31/31 [==============================] - 4s 129ms/step - loss: 1685.2318 - mae: 32.5041 - val_loss: 2068.5759 - val_mae: 35.2314\n",
      "Epoch 25/50\n",
      "31/31 [==============================] - ETA: 0s - loss: 1612.7885 - mae: 31.9504"
     ]
    },
    {
     "name": "stderr",
     "output_type": "stream",
     "text": [
      "WARNING:tensorflow:Early stopping conditioned on metric `accuracy` which is not available. Available metrics are: loss,mae,val_loss,val_mae\n"
     ]
    },
    {
     "name": "stdout",
     "output_type": "stream",
     "text": [
      "31/31 [==============================] - 4s 143ms/step - loss: 1612.7885 - mae: 31.9504 - val_loss: 1997.2684 - val_mae: 34.7665\n",
      "Epoch 26/50\n",
      "31/31 [==============================] - ETA: 0s - loss: 1557.0961 - mae: 31.3807"
     ]
    },
    {
     "name": "stderr",
     "output_type": "stream",
     "text": [
      "WARNING:tensorflow:Early stopping conditioned on metric `accuracy` which is not available. Available metrics are: loss,mae,val_loss,val_mae\n"
     ]
    },
    {
     "name": "stdout",
     "output_type": "stream",
     "text": [
      "31/31 [==============================] - 4s 142ms/step - loss: 1557.0961 - mae: 31.3807 - val_loss: 1943.2131 - val_mae: 34.3286\n",
      "Epoch 27/50\n",
      "31/31 [==============================] - ETA: 0s - loss: 1500.7528 - mae: 30.8297"
     ]
    },
    {
     "name": "stderr",
     "output_type": "stream",
     "text": [
      "WARNING:tensorflow:Early stopping conditioned on metric `accuracy` which is not available. Available metrics are: loss,mae,val_loss,val_mae\n"
     ]
    },
    {
     "name": "stdout",
     "output_type": "stream",
     "text": [
      "31/31 [==============================] - 4s 146ms/step - loss: 1500.7528 - mae: 30.8297 - val_loss: 1897.5107 - val_mae: 33.7362\n",
      "Epoch 28/50\n",
      "31/31 [==============================] - ETA: 0s - loss: 1449.1042 - mae: 30.3363"
     ]
    },
    {
     "name": "stderr",
     "output_type": "stream",
     "text": [
      "WARNING:tensorflow:Early stopping conditioned on metric `accuracy` which is not available. Available metrics are: loss,mae,val_loss,val_mae\n"
     ]
    },
    {
     "name": "stdout",
     "output_type": "stream",
     "text": [
      "31/31 [==============================] - 4s 143ms/step - loss: 1449.1042 - mae: 30.3363 - val_loss: 1855.4146 - val_mae: 33.8027\n",
      "Epoch 29/50\n",
      "31/31 [==============================] - ETA: 0s - loss: 1405.8516 - mae: 29.7573"
     ]
    },
    {
     "name": "stderr",
     "output_type": "stream",
     "text": [
      "WARNING:tensorflow:Early stopping conditioned on metric `accuracy` which is not available. Available metrics are: loss,mae,val_loss,val_mae\n"
     ]
    },
    {
     "name": "stdout",
     "output_type": "stream",
     "text": [
      "31/31 [==============================] - 4s 142ms/step - loss: 1405.8516 - mae: 29.7573 - val_loss: 1810.3906 - val_mae: 32.8820\n",
      "Epoch 30/50\n",
      "31/31 [==============================] - ETA: 0s - loss: 1351.5127 - mae: 29.3478"
     ]
    },
    {
     "name": "stderr",
     "output_type": "stream",
     "text": [
      "WARNING:tensorflow:Early stopping conditioned on metric `accuracy` which is not available. Available metrics are: loss,mae,val_loss,val_mae\n"
     ]
    },
    {
     "name": "stdout",
     "output_type": "stream",
     "text": [
      "31/31 [==============================] - 4s 127ms/step - loss: 1351.5127 - mae: 29.3478 - val_loss: 1780.7863 - val_mae: 32.5287\n",
      "Epoch 31/50\n",
      "31/31 [==============================] - ETA: 0s - loss: 1317.9354 - mae: 28.9653"
     ]
    },
    {
     "name": "stderr",
     "output_type": "stream",
     "text": [
      "WARNING:tensorflow:Early stopping conditioned on metric `accuracy` which is not available. Available metrics are: loss,mae,val_loss,val_mae\n"
     ]
    },
    {
     "name": "stdout",
     "output_type": "stream",
     "text": [
      "31/31 [==============================] - 4s 142ms/step - loss: 1317.9354 - mae: 28.9653 - val_loss: 1763.1715 - val_mae: 32.3464\n",
      "Epoch 32/50\n",
      "31/31 [==============================] - ETA: 0s - loss: 1261.3588 - mae: 28.3041"
     ]
    },
    {
     "name": "stderr",
     "output_type": "stream",
     "text": [
      "WARNING:tensorflow:Early stopping conditioned on metric `accuracy` which is not available. Available metrics are: loss,mae,val_loss,val_mae\n"
     ]
    },
    {
     "name": "stdout",
     "output_type": "stream",
     "text": [
      "31/31 [==============================] - 4s 143ms/step - loss: 1261.3588 - mae: 28.3041 - val_loss: 1682.7151 - val_mae: 31.6426\n",
      "Epoch 33/50\n",
      "31/31 [==============================] - ETA: 0s - loss: 1225.0015 - mae: 27.7927"
     ]
    },
    {
     "name": "stderr",
     "output_type": "stream",
     "text": [
      "WARNING:tensorflow:Early stopping conditioned on metric `accuracy` which is not available. Available metrics are: loss,mae,val_loss,val_mae\n"
     ]
    },
    {
     "name": "stdout",
     "output_type": "stream",
     "text": [
      "31/31 [==============================] - 4s 126ms/step - loss: 1225.0015 - mae: 27.7927 - val_loss: 1628.5978 - val_mae: 31.2417\n",
      "Epoch 34/50\n",
      "31/31 [==============================] - ETA: 0s - loss: 1181.7896 - mae: 27.1958"
     ]
    },
    {
     "name": "stderr",
     "output_type": "stream",
     "text": [
      "WARNING:tensorflow:Early stopping conditioned on metric `accuracy` which is not available. Available metrics are: loss,mae,val_loss,val_mae\n"
     ]
    },
    {
     "name": "stdout",
     "output_type": "stream",
     "text": [
      "31/31 [==============================] - 4s 143ms/step - loss: 1181.7896 - mae: 27.1958 - val_loss: 1600.7050 - val_mae: 30.9012\n",
      "Epoch 35/50\n",
      "31/31 [==============================] - ETA: 0s - loss: 1153.3733 - mae: 26.8493"
     ]
    },
    {
     "name": "stderr",
     "output_type": "stream",
     "text": [
      "WARNING:tensorflow:Early stopping conditioned on metric `accuracy` which is not available. Available metrics are: loss,mae,val_loss,val_mae\n"
     ]
    },
    {
     "name": "stdout",
     "output_type": "stream",
     "text": [
      "31/31 [==============================] - 4s 128ms/step - loss: 1153.3733 - mae: 26.8493 - val_loss: 1561.6411 - val_mae: 30.5777\n",
      "Epoch 36/50\n",
      "31/31 [==============================] - ETA: 0s - loss: 1107.1609 - mae: 26.4681"
     ]
    },
    {
     "name": "stderr",
     "output_type": "stream",
     "text": [
      "WARNING:tensorflow:Early stopping conditioned on metric `accuracy` which is not available. Available metrics are: loss,mae,val_loss,val_mae\n"
     ]
    },
    {
     "name": "stdout",
     "output_type": "stream",
     "text": [
      "31/31 [==============================] - 4s 143ms/step - loss: 1107.1609 - mae: 26.4681 - val_loss: 1529.6658 - val_mae: 30.2117\n",
      "Epoch 37/50\n",
      "31/31 [==============================] - ETA: 0s - loss: 1074.1337 - mae: 25.9369"
     ]
    },
    {
     "name": "stderr",
     "output_type": "stream",
     "text": [
      "WARNING:tensorflow:Early stopping conditioned on metric `accuracy` which is not available. Available metrics are: loss,mae,val_loss,val_mae\n"
     ]
    },
    {
     "name": "stdout",
     "output_type": "stream",
     "text": [
      "31/31 [==============================] - 4s 125ms/step - loss: 1074.1337 - mae: 25.9369 - val_loss: 1493.6970 - val_mae: 29.8331\n",
      "Epoch 38/50\n",
      "31/31 [==============================] - ETA: 0s - loss: 1066.2306 - mae: 25.9431"
     ]
    },
    {
     "name": "stderr",
     "output_type": "stream",
     "text": [
      "WARNING:tensorflow:Early stopping conditioned on metric `accuracy` which is not available. Available metrics are: loss,mae,val_loss,val_mae\n"
     ]
    },
    {
     "name": "stdout",
     "output_type": "stream",
     "text": [
      "31/31 [==============================] - 4s 128ms/step - loss: 1066.2306 - mae: 25.9431 - val_loss: 1464.3136 - val_mae: 29.5361\n",
      "Epoch 39/50\n",
      "31/31 [==============================] - ETA: 0s - loss: 1006.2740 - mae: 25.1413"
     ]
    },
    {
     "name": "stderr",
     "output_type": "stream",
     "text": [
      "WARNING:tensorflow:Early stopping conditioned on metric `accuracy` which is not available. Available metrics are: loss,mae,val_loss,val_mae\n"
     ]
    },
    {
     "name": "stdout",
     "output_type": "stream",
     "text": [
      "31/31 [==============================] - 4s 126ms/step - loss: 1006.2740 - mae: 25.1413 - val_loss: 1440.0864 - val_mae: 29.2939\n",
      "Epoch 40/50\n",
      "31/31 [==============================] - ETA: 0s - loss: 1001.1019 - mae: 24.9232"
     ]
    },
    {
     "name": "stderr",
     "output_type": "stream",
     "text": [
      "WARNING:tensorflow:Early stopping conditioned on metric `accuracy` which is not available. Available metrics are: loss,mae,val_loss,val_mae\n"
     ]
    },
    {
     "name": "stdout",
     "output_type": "stream",
     "text": [
      "31/31 [==============================] - 4s 143ms/step - loss: 1001.1019 - mae: 24.9232 - val_loss: 1465.9916 - val_mae: 29.9178\n",
      "Epoch 41/50\n",
      "31/31 [==============================] - ETA: 0s - loss: 960.9474 - mae: 24.5108"
     ]
    },
    {
     "name": "stderr",
     "output_type": "stream",
     "text": [
      "WARNING:tensorflow:Early stopping conditioned on metric `accuracy` which is not available. Available metrics are: loss,mae,val_loss,val_mae\n"
     ]
    },
    {
     "name": "stdout",
     "output_type": "stream",
     "text": [
      "31/31 [==============================] - 4s 145ms/step - loss: 960.9474 - mae: 24.5108 - val_loss: 1383.8839 - val_mae: 28.7216\n",
      "Epoch 42/50\n",
      "31/31 [==============================] - ETA: 0s - loss: 935.2437 - mae: 24.2728"
     ]
    },
    {
     "name": "stderr",
     "output_type": "stream",
     "text": [
      "WARNING:tensorflow:Early stopping conditioned on metric `accuracy` which is not available. Available metrics are: loss,mae,val_loss,val_mae\n"
     ]
    },
    {
     "name": "stdout",
     "output_type": "stream",
     "text": [
      "31/31 [==============================] - 4s 143ms/step - loss: 935.2437 - mae: 24.2728 - val_loss: 1395.8235 - val_mae: 29.1798\n",
      "Epoch 43/50\n",
      "31/31 [==============================] - ETA: 0s - loss: 904.3936 - mae: 23.7468"
     ]
    },
    {
     "name": "stderr",
     "output_type": "stream",
     "text": [
      "WARNING:tensorflow:Early stopping conditioned on metric `accuracy` which is not available. Available metrics are: loss,mae,val_loss,val_mae\n"
     ]
    },
    {
     "name": "stdout",
     "output_type": "stream",
     "text": [
      "31/31 [==============================] - 4s 144ms/step - loss: 904.3936 - mae: 23.7468 - val_loss: 1353.5995 - val_mae: 28.6588\n",
      "Epoch 44/50\n",
      "31/31 [==============================] - ETA: 0s - loss: 883.8222 - mae: 23.3767"
     ]
    },
    {
     "name": "stderr",
     "output_type": "stream",
     "text": [
      "WARNING:tensorflow:Early stopping conditioned on metric `accuracy` which is not available. Available metrics are: loss,mae,val_loss,val_mae\n"
     ]
    },
    {
     "name": "stdout",
     "output_type": "stream",
     "text": [
      "31/31 [==============================] - 4s 129ms/step - loss: 883.8222 - mae: 23.3767 - val_loss: 1320.2527 - val_mae: 28.0197\n",
      "Epoch 45/50\n",
      "31/31 [==============================] - ETA: 0s - loss: 845.4943 - mae: 22.9392"
     ]
    },
    {
     "name": "stderr",
     "output_type": "stream",
     "text": [
      "WARNING:tensorflow:Early stopping conditioned on metric `accuracy` which is not available. Available metrics are: loss,mae,val_loss,val_mae\n"
     ]
    },
    {
     "name": "stdout",
     "output_type": "stream",
     "text": [
      "31/31 [==============================] - 4s 126ms/step - loss: 845.4943 - mae: 22.9392 - val_loss: 1296.1206 - val_mae: 27.8111\n",
      "Epoch 46/50\n",
      "31/31 [==============================] - ETA: 0s - loss: 824.5942 - mae: 22.6974"
     ]
    },
    {
     "name": "stderr",
     "output_type": "stream",
     "text": [
      "WARNING:tensorflow:Early stopping conditioned on metric `accuracy` which is not available. Available metrics are: loss,mae,val_loss,val_mae\n"
     ]
    },
    {
     "name": "stdout",
     "output_type": "stream",
     "text": [
      "31/31 [==============================] - 4s 126ms/step - loss: 824.5942 - mae: 22.6974 - val_loss: 1280.3130 - val_mae: 27.7628\n",
      "Epoch 47/50\n",
      "31/31 [==============================] - ETA: 0s - loss: 803.5751 - mae: 22.3742"
     ]
    },
    {
     "name": "stderr",
     "output_type": "stream",
     "text": [
      "WARNING:tensorflow:Early stopping conditioned on metric `accuracy` which is not available. Available metrics are: loss,mae,val_loss,val_mae\n"
     ]
    },
    {
     "name": "stdout",
     "output_type": "stream",
     "text": [
      "31/31 [==============================] - 4s 129ms/step - loss: 803.5751 - mae: 22.3742 - val_loss: 1260.9698 - val_mae: 27.4744\n",
      "Epoch 48/50\n",
      "31/31 [==============================] - ETA: 0s - loss: 783.7206 - mae: 22.0685"
     ]
    },
    {
     "name": "stderr",
     "output_type": "stream",
     "text": [
      "WARNING:tensorflow:Early stopping conditioned on metric `accuracy` which is not available. Available metrics are: loss,mae,val_loss,val_mae\n"
     ]
    },
    {
     "name": "stdout",
     "output_type": "stream",
     "text": [
      "31/31 [==============================] - 4s 143ms/step - loss: 783.7206 - mae: 22.0685 - val_loss: 1256.2157 - val_mae: 27.3206\n",
      "Epoch 49/50\n",
      "31/31 [==============================] - ETA: 0s - loss: 775.5618 - mae: 21.9023"
     ]
    },
    {
     "name": "stderr",
     "output_type": "stream",
     "text": [
      "WARNING:tensorflow:Early stopping conditioned on metric `accuracy` which is not available. Available metrics are: loss,mae,val_loss,val_mae\n"
     ]
    },
    {
     "name": "stdout",
     "output_type": "stream",
     "text": [
      "31/31 [==============================] - 4s 127ms/step - loss: 775.5618 - mae: 21.9023 - val_loss: 1234.4183 - val_mae: 27.3933\n",
      "Epoch 50/50\n",
      "31/31 [==============================] - ETA: 0s - loss: 739.3569 - mae: 21.4193"
     ]
    },
    {
     "name": "stderr",
     "output_type": "stream",
     "text": [
      "WARNING:tensorflow:Early stopping conditioned on metric `accuracy` which is not available. Available metrics are: loss,mae,val_loss,val_mae\n"
     ]
    },
    {
     "name": "stdout",
     "output_type": "stream",
     "text": [
      "31/31 [==============================] - 5s 147ms/step - loss: 739.3569 - mae: 21.4193 - val_loss: 1213.9993 - val_mae: 26.8747\n",
      "8/8 [==============================] - 1s 97ms/step - loss: 1213.9993 - mae: 26.8747\n",
      "Test loss: 1213.999267578125\n",
      "Test means absolute error: 26.874731063842773\n"
     ]
    }
   ],
   "source": [
    "#importing libraries\n",
    "from tensorflow.keras import layers, models\n",
    "from tensorflow.keras.callbacks import EarlyStopping\n",
    "from keras.layers import Dense, Activation, Flatten, Dropout\n",
    "from sklearn.model_selection import train_test_split\n",
    "\n",
    "#Splitting the data\n",
    "X_train, X_test, y_train, y_test = train_test_split(img_array, years, \n",
    "                                                    shuffle=True, \n",
    "                                                    random_state=40, \n",
    "                                                    test_size=0.2)\n",
    "\n",
    "#Adding layers in the model\n",
    "model.add(layers.Dense(50, activation='relu'))\n",
    "model.add(layers.Dense(25, activation='relu'))\n",
    "model.add(layers.Dense(1, activation='linear'))\n",
    "\n",
    "\n",
    "#Compiling the model\n",
    "model.compile(optimizer='adam',\n",
    "             loss='mse',\n",
    "             metrics=['mae'])\n",
    "\n",
    "# The below will stop the training when there is no improvement in the loss for three consecutive epochs.\n",
    "es = EarlyStopping(monitor='accuracy', patience=3)\n",
    "\n",
    "# Data Normalization\n",
    "X_train = X_train / 255.0\n",
    "X_test = X_test / 255.0\n",
    "\n",
    "history = model.fit(X_train, y_train, batch_size=32, epochs=50, callbacks=[es], \n",
    "                    validation_data=(X_test,y_test))\n",
    "\n",
    "score = model.evaluate(X_test, y_test)\n",
    "print('Test loss:', score[0])\n",
    "print('Test means absolute error:', score[1])\n"
   ]
  },
  {
   "cell_type": "markdown",
   "metadata": {},
   "source": [
    "<b>Explanation</b><br>\n",
    "The model performed well with the test loss: 1213.999 and mean absolute error:26.874.<br>\n",
    "We wanted to keep the model simple so just added dense layer with activation='relu'.We used relu activation because it does not activate all neurons at the same time. And reason for using the activation as linear in the last layer is that when we go to the output layer we will be having actual values in that layer instead of some values between some specific range. Furthermore, we have used early-stopping to stop the training when there is no improvement in the training.And we have used patience as the parameter and had given it value as 3 so that if we are not improving and the value is constant for 3 consecutive epochs then the model will stop execution and give us the result. With the results, we can say that the model can predict the year of the poster efficiently."
   ]
  },
  {
   "cell_type": "markdown",
   "metadata": {},
   "source": [
    "<b>References</b>\n",
    "https://keras.io/api/callbacks/early_stopping/<br>\n",
    "https://www.pluralsight.com/guides/regression-keras<br>\n",
    "https://www.projectpro.io/recipes/perform-basic-regression-keras-model<br>\n",
    "https://towardsdatascience.com/a-simple-introduction-to-tensorflow-d992eb2e3dbb<br>"
   ]
  },
  {
   "cell_type": "code",
   "execution_count": 42,
   "metadata": {
    "colab": {
     "base_uri": "https://localhost:8080/",
     "height": 293
    },
    "id": "BCv1pyyJfZHL",
    "outputId": "630ed34b-86e1-474d-a83e-2e2d6b9b90c7"
   },
   "outputs": [
    {
     "data": {
      "text/plain": [
       "[<matplotlib.lines.Line2D at 0x7f28c1ef4d00>]"
      ]
     },
     "execution_count": 42,
     "metadata": {},
     "output_type": "execute_result"
    },
    {
     "data": {
      "image/png": "[encoded data removed]",
      "text/plain": [
       "<Figure size 432x288 with 1 Axes>"
      ]
     },
     "metadata": {
      "needs_background": "light"
     },
     "output_type": "display_data"
    }
   ],
   "source": [
    "#Visualisation for training and validation loss\n",
    "loss_train = history.history['loss']\n",
    "loss_val = history.history['val_loss']\n",
    "epochs = range(1,51)\n",
    "plt.plot(epochs, loss_train, 'g', label='Training loss')\n",
    "plt.plot(epochs, loss_val, 'b', label='validation loss')\n",
    "plt.xlabel('Epochs')\n",
    "plt.ylabel('Loss')\n",
    "\n"
   ]
  },
  {
   "cell_type": "code",
   "execution_count": 43,
   "metadata": {
    "colab": {
     "base_uri": "https://localhost:8080/",
     "height": 282
    },
    "id": "qeQ9jAkpBds2",
    "outputId": "481cacce-5d02-488c-884e-bd208dc262fd"
   },
   "outputs": [
    {
     "data": {
      "text/plain": [
       "[<matplotlib.lines.Line2D at 0x7f28c1e6b940>]"
      ]
     },
     "execution_count": 43,
     "metadata": {},
     "output_type": "execute_result"
    },
    {
     "data": {
      "image/png": "[encoded data removed]",
      "text/plain": [
       "<Figure size 432x288 with 1 Axes>"
      ]
     },
     "metadata": {
      "needs_background": "light"
     },
     "output_type": "display_data"
    }
   ],
   "source": [
    "#Visualisation for mean absolute error for training and validation\n",
    "loss_train = history.history['mae']\n",
    "loss_val = history.history['val_mae']\n",
    "epochs = range(1,51)\n",
    "plt.plot(epochs, loss_train, 'g', label='Training loss')\n",
    "plt.plot(epochs, loss_val, 'b', label='validation loss')\n",
    "plt.xlabel('Epochs')\n",
    "plt.ylabel('MAE')\n"
   ]
  },
  {
   "cell_type": "markdown",
   "metadata": {
    "id": "7txbAHgjryUd"
   },
   "source": [
    "### Part 5: Improvements\n",
    "\n",
    "Now we will fine-tune our model by making the `base_model.trainable = True`."
   ]
  },
  {
   "cell_type": "code",
   "execution_count": 44,
   "metadata": {
    "colab": {
     "base_uri": "https://localhost:8080/"
    },
    "id": "0G2BX6uHryUe",
    "outputId": "81a53c59-9bb6-4a5e-fbc2-242074417c34"
   },
   "outputs": [
    {
     "name": "stdout",
     "output_type": "stream",
     "text": [
      "Epoch 1/50\n",
      "31/31 [==============================] - ETA: 0s - loss: 4020952.5000 - mae: 2004.0930"
     ]
    },
    {
     "name": "stderr",
     "output_type": "stream",
     "text": [
      "WARNING:tensorflow:Early stopping conditioned on metric `accuracy` which is not available. Available metrics are: loss,mae,val_loss,val_mae\n"
     ]
    },
    {
     "name": "stdout",
     "output_type": "stream",
     "text": [
      "31/31 [==============================] - 46s 461ms/step - loss: 4020952.5000 - mae: 2004.0930 - val_loss: 4458332.5000 - val_mae: 2111.3499\n",
      "Epoch 2/50\n",
      "31/31 [==============================] - ETA: 0s - loss: 3968507.2500 - mae: 1991.9359"
     ]
    },
    {
     "name": "stderr",
     "output_type": "stream",
     "text": [
      "WARNING:tensorflow:Early stopping conditioned on metric `accuracy` which is not available. Available metrics are: loss,mae,val_loss,val_mae\n"
     ]
    },
    {
     "name": "stdout",
     "output_type": "stream",
     "text": [
      "31/31 [==============================] - 11s 353ms/step - loss: 3968507.2500 - mae: 1991.9359 - val_loss: 3923629.5000 - val_mae: 1980.6804\n",
      "Epoch 3/50\n",
      "31/31 [==============================] - ETA: 0s - loss: 3947948.0000 - mae: 1986.7257"
     ]
    },
    {
     "name": "stderr",
     "output_type": "stream",
     "text": [
      "WARNING:tensorflow:Early stopping conditioned on metric `accuracy` which is not available. Available metrics are: loss,mae,val_loss,val_mae\n"
     ]
    },
    {
     "name": "stdout",
     "output_type": "stream",
     "text": [
      "31/31 [==============================] - 12s 376ms/step - loss: 3947948.0000 - mae: 1986.7257 - val_loss: 3602853.7500 - val_mae: 1897.9775\n",
      "Epoch 4/50\n",
      "31/31 [==============================] - ETA: 0s - loss: 3784842.2500 - mae: 1944.0695"
     ]
    },
    {
     "name": "stderr",
     "output_type": "stream",
     "text": [
      "WARNING:tensorflow:Early stopping conditioned on metric `accuracy` which is not available. Available metrics are: loss,mae,val_loss,val_mae\n"
     ]
    },
    {
     "name": "stdout",
     "output_type": "stream",
     "text": [
      "31/31 [==============================] - 11s 363ms/step - loss: 3784842.2500 - mae: 1944.0695 - val_loss: 2388183.5000 - val_mae: 1545.2020\n",
      "Epoch 5/50\n",
      "31/31 [==============================] - ETA: 0s - loss: 3192264.2500 - mae: 1776.2604"
     ]
    },
    {
     "name": "stderr",
     "output_type": "stream",
     "text": [
      "WARNING:tensorflow:Early stopping conditioned on metric `accuracy` which is not available. Available metrics are: loss,mae,val_loss,val_mae\n"
     ]
    },
    {
     "name": "stdout",
     "output_type": "stream",
     "text": [
      "31/31 [==============================] - 11s 368ms/step - loss: 3192264.2500 - mae: 1776.2604 - val_loss: 1768126.8750 - val_mae: 1329.5084\n",
      "Epoch 6/50\n",
      "31/31 [==============================] - ETA: 0s - loss: 2498504.2500 - mae: 1545.0708"
     ]
    },
    {
     "name": "stderr",
     "output_type": "stream",
     "text": [
      "WARNING:tensorflow:Early stopping conditioned on metric `accuracy` which is not available. Available metrics are: loss,mae,val_loss,val_mae\n"
     ]
    },
    {
     "name": "stdout",
     "output_type": "stream",
     "text": [
      "31/31 [==============================] - 12s 390ms/step - loss: 2498504.2500 - mae: 1545.0708 - val_loss: 2011856.2500 - val_mae: 1418.2109\n",
      "Epoch 7/50\n",
      "31/31 [==============================] - ETA: 0s - loss: 1803157.7500 - mae: 1258.7562"
     ]
    },
    {
     "name": "stderr",
     "output_type": "stream",
     "text": [
      "WARNING:tensorflow:Early stopping conditioned on metric `accuracy` which is not available. Available metrics are: loss,mae,val_loss,val_mae\n"
     ]
    },
    {
     "name": "stdout",
     "output_type": "stream",
     "text": [
      "31/31 [==============================] - 12s 390ms/step - loss: 1803157.7500 - mae: 1258.7562 - val_loss: 1102839.2500 - val_mae: 1049.9072\n",
      "Epoch 8/50\n",
      "31/31 [==============================] - ETA: 0s - loss: 1262715.5000 - mae: 990.7606"
     ]
    },
    {
     "name": "stderr",
     "output_type": "stream",
     "text": [
      "WARNING:tensorflow:Early stopping conditioned on metric `accuracy` which is not available. Available metrics are: loss,mae,val_loss,val_mae\n"
     ]
    },
    {
     "name": "stdout",
     "output_type": "stream",
     "text": [
      "31/31 [==============================] - 12s 386ms/step - loss: 1262715.5000 - mae: 990.7606 - val_loss: 209268.3125 - val_mae: 456.8742\n",
      "Epoch 9/50\n",
      "31/31 [==============================] - ETA: 0s - loss: 939241.3750 - mae: 815.2184"
     ]
    },
    {
     "name": "stderr",
     "output_type": "stream",
     "text": [
      "WARNING:tensorflow:Early stopping conditioned on metric `accuracy` which is not available. Available metrics are: loss,mae,val_loss,val_mae\n"
     ]
    },
    {
     "name": "stdout",
     "output_type": "stream",
     "text": [
      "31/31 [==============================] - 12s 383ms/step - loss: 939241.3750 - mae: 815.2184 - val_loss: 930466.1875 - val_mae: 964.3298\n",
      "Epoch 10/50\n",
      "31/31 [==============================] - ETA: 0s - loss: 908776.8750 - mae: 788.6353"
     ]
    },
    {
     "name": "stderr",
     "output_type": "stream",
     "text": [
      "WARNING:tensorflow:Early stopping conditioned on metric `accuracy` which is not available. Available metrics are: loss,mae,val_loss,val_mae\n"
     ]
    },
    {
     "name": "stdout",
     "output_type": "stream",
     "text": [
      "31/31 [==============================] - 11s 367ms/step - loss: 908776.8750 - mae: 788.6353 - val_loss: 1020327.1875 - val_mae: 1009.8480\n",
      "Epoch 11/50\n",
      "31/31 [==============================] - ETA: 0s - loss: 777905.8125 - mae: 720.2687"
     ]
    },
    {
     "name": "stderr",
     "output_type": "stream",
     "text": [
      "WARNING:tensorflow:Early stopping conditioned on metric `accuracy` which is not available. Available metrics are: loss,mae,val_loss,val_mae\n"
     ]
    },
    {
     "name": "stdout",
     "output_type": "stream",
     "text": [
      "31/31 [==============================] - 12s 384ms/step - loss: 777905.8125 - mae: 720.2687 - val_loss: 447657.2188 - val_mae: 668.6725\n",
      "Epoch 12/50\n",
      "31/31 [==============================] - ETA: 0s - loss: 699966.6250 - mae: 688.9349"
     ]
    },
    {
     "name": "stderr",
     "output_type": "stream",
     "text": [
      "WARNING:tensorflow:Early stopping conditioned on metric `accuracy` which is not available. Available metrics are: loss,mae,val_loss,val_mae\n"
     ]
    },
    {
     "name": "stdout",
     "output_type": "stream",
     "text": [
      "31/31 [==============================] - 12s 386ms/step - loss: 699966.6250 - mae: 688.9349 - val_loss: 577885.2500 - val_mae: 759.8362\n",
      "Epoch 13/50\n",
      "31/31 [==============================] - ETA: 0s - loss: 732133.7500 - mae: 702.8232"
     ]
    },
    {
     "name": "stderr",
     "output_type": "stream",
     "text": [
      "WARNING:tensorflow:Early stopping conditioned on metric `accuracy` which is not available. Available metrics are: loss,mae,val_loss,val_mae\n"
     ]
    },
    {
     "name": "stdout",
     "output_type": "stream",
     "text": [
      "31/31 [==============================] - 11s 369ms/step - loss: 732133.7500 - mae: 702.8232 - val_loss: 777148.0000 - val_mae: 881.2569\n",
      "Epoch 14/50\n",
      "31/31 [==============================] - ETA: 0s - loss: 703673.5000 - mae: 692.7521"
     ]
    },
    {
     "name": "stderr",
     "output_type": "stream",
     "text": [
      "WARNING:tensorflow:Early stopping conditioned on metric `accuracy` which is not available. Available metrics are: loss,mae,val_loss,val_mae\n"
     ]
    },
    {
     "name": "stdout",
     "output_type": "stream",
     "text": [
      "31/31 [==============================] - 12s 386ms/step - loss: 703673.5000 - mae: 692.7521 - val_loss: 563271.3750 - val_mae: 750.1581\n",
      "Epoch 15/50\n",
      "31/31 [==============================] - ETA: 0s - loss: 644510.0000 - mae: 656.2898"
     ]
    },
    {
     "name": "stderr",
     "output_type": "stream",
     "text": [
      "WARNING:tensorflow:Early stopping conditioned on metric `accuracy` which is not available. Available metrics are: loss,mae,val_loss,val_mae\n"
     ]
    },
    {
     "name": "stdout",
     "output_type": "stream",
     "text": [
      "31/31 [==============================] - 12s 387ms/step - loss: 644510.0000 - mae: 656.2898 - val_loss: 748451.1250 - val_mae: 864.8218\n",
      "Epoch 16/50\n",
      "31/31 [==============================] - ETA: 0s - loss: 585427.5625 - mae: 622.5389"
     ]
    },
    {
     "name": "stderr",
     "output_type": "stream",
     "text": [
      "WARNING:tensorflow:Early stopping conditioned on metric `accuracy` which is not available. Available metrics are: loss,mae,val_loss,val_mae\n"
     ]
    },
    {
     "name": "stdout",
     "output_type": "stream",
     "text": [
      "31/31 [==============================] - 12s 386ms/step - loss: 585427.5625 - mae: 622.5389 - val_loss: 422049.8125 - val_mae: 649.2422\n",
      "Epoch 17/50\n",
      "31/31 [==============================] - ETA: 0s - loss: 630245.1250 - mae: 658.2892"
     ]
    },
    {
     "name": "stderr",
     "output_type": "stream",
     "text": [
      "WARNING:tensorflow:Early stopping conditioned on metric `accuracy` which is not available. Available metrics are: loss,mae,val_loss,val_mae\n"
     ]
    },
    {
     "name": "stdout",
     "output_type": "stream",
     "text": [
      "31/31 [==============================] - 11s 368ms/step - loss: 630245.1250 - mae: 658.2892 - val_loss: 225778.1094 - val_mae: 474.5987\n",
      "Epoch 18/50\n",
      "31/31 [==============================] - ETA: 0s - loss: 570206.1250 - mae: 621.9573"
     ]
    },
    {
     "name": "stderr",
     "output_type": "stream",
     "text": [
      "WARNING:tensorflow:Early stopping conditioned on metric `accuracy` which is not available. Available metrics are: loss,mae,val_loss,val_mae\n"
     ]
    },
    {
     "name": "stdout",
     "output_type": "stream",
     "text": [
      "31/31 [==============================] - 11s 368ms/step - loss: 570206.1250 - mae: 621.9573 - val_loss: 344448.3125 - val_mae: 586.4420\n",
      "Epoch 19/50\n",
      "31/31 [==============================] - ETA: 0s - loss: 559961.8125 - mae: 611.1877"
     ]
    },
    {
     "name": "stderr",
     "output_type": "stream",
     "text": [
      "WARNING:tensorflow:Early stopping conditioned on metric `accuracy` which is not available. Available metrics are: loss,mae,val_loss,val_mae\n"
     ]
    },
    {
     "name": "stdout",
     "output_type": "stream",
     "text": [
      "31/31 [==============================] - 11s 368ms/step - loss: 559961.8125 - mae: 611.1877 - val_loss: 375027.8125 - val_mae: 611.9588\n",
      "Epoch 20/50\n",
      "31/31 [==============================] - ETA: 0s - loss: 555826.3125 - mae: 610.3188"
     ]
    },
    {
     "name": "stderr",
     "output_type": "stream",
     "text": [
      "WARNING:tensorflow:Early stopping conditioned on metric `accuracy` which is not available. Available metrics are: loss,mae,val_loss,val_mae\n"
     ]
    },
    {
     "name": "stdout",
     "output_type": "stream",
     "text": [
      "31/31 [==============================] - 12s 384ms/step - loss: 555826.3125 - mae: 610.3188 - val_loss: 354561.2188 - val_mae: 595.0017\n",
      "Epoch 21/50\n",
      "31/31 [==============================] - ETA: 0s - loss: 536902.9375 - mae: 604.8942"
     ]
    },
    {
     "name": "stderr",
     "output_type": "stream",
     "text": [
      "WARNING:tensorflow:Early stopping conditioned on metric `accuracy` which is not available. Available metrics are: loss,mae,val_loss,val_mae\n"
     ]
    },
    {
     "name": "stdout",
     "output_type": "stream",
     "text": [
      "31/31 [==============================] - 11s 368ms/step - loss: 536902.9375 - mae: 604.8942 - val_loss: 338509.2188 - val_mae: 581.3566\n",
      "Epoch 22/50\n",
      "31/31 [==============================] - ETA: 0s - loss: 509471.8750 - mae: 583.4146"
     ]
    },
    {
     "name": "stderr",
     "output_type": "stream",
     "text": [
      "WARNING:tensorflow:Early stopping conditioned on metric `accuracy` which is not available. Available metrics are: loss,mae,val_loss,val_mae\n"
     ]
    },
    {
     "name": "stdout",
     "output_type": "stream",
     "text": [
      "31/31 [==============================] - 12s 386ms/step - loss: 509471.8750 - mae: 583.4146 - val_loss: 353906.7812 - val_mae: 594.4515\n",
      "Epoch 23/50\n",
      "31/31 [==============================] - ETA: 0s - loss: 473488.0312 - mae: 566.1885"
     ]
    },
    {
     "name": "stderr",
     "output_type": "stream",
     "text": [
      "WARNING:tensorflow:Early stopping conditioned on metric `accuracy` which is not available. Available metrics are: loss,mae,val_loss,val_mae\n"
     ]
    },
    {
     "name": "stdout",
     "output_type": "stream",
     "text": [
      "31/31 [==============================] - 12s 385ms/step - loss: 473488.0312 - mae: 566.1885 - val_loss: 144211.6875 - val_mae: 379.0478\n",
      "Epoch 24/50\n",
      "31/31 [==============================] - ETA: 0s - loss: 479110.0312 - mae: 560.1316"
     ]
    },
    {
     "name": "stderr",
     "output_type": "stream",
     "text": [
      "WARNING:tensorflow:Early stopping conditioned on metric `accuracy` which is not available. Available metrics are: loss,mae,val_loss,val_mae\n"
     ]
    },
    {
     "name": "stdout",
     "output_type": "stream",
     "text": [
      "31/31 [==============================] - 12s 385ms/step - loss: 479110.0312 - mae: 560.1316 - val_loss: 40987.2617 - val_mae: 201.1286\n",
      "Epoch 25/50\n",
      "31/31 [==============================] - ETA: 0s - loss: 455114.9062 - mae: 548.2635"
     ]
    },
    {
     "name": "stderr",
     "output_type": "stream",
     "text": [
      "WARNING:tensorflow:Early stopping conditioned on metric `accuracy` which is not available. Available metrics are: loss,mae,val_loss,val_mae\n"
     ]
    },
    {
     "name": "stdout",
     "output_type": "stream",
     "text": [
      "31/31 [==============================] - 11s 370ms/step - loss: 455114.9062 - mae: 548.2635 - val_loss: 175540.4531 - val_mae: 418.3373\n",
      "Epoch 26/50\n",
      "31/31 [==============================] - ETA: 0s - loss: 458328.9688 - mae: 555.1033"
     ]
    },
    {
     "name": "stderr",
     "output_type": "stream",
     "text": [
      "WARNING:tensorflow:Early stopping conditioned on metric `accuracy` which is not available. Available metrics are: loss,mae,val_loss,val_mae\n"
     ]
    },
    {
     "name": "stdout",
     "output_type": "stream",
     "text": [
      "31/31 [==============================] - 12s 384ms/step - loss: 458328.9688 - mae: 555.1033 - val_loss: 220246.6875 - val_mae: 468.7349\n",
      "Epoch 27/50\n",
      "31/31 [==============================] - ETA: 0s - loss: 415581.4688 - mae: 524.8206"
     ]
    },
    {
     "name": "stderr",
     "output_type": "stream",
     "text": [
      "WARNING:tensorflow:Early stopping conditioned on metric `accuracy` which is not available. Available metrics are: loss,mae,val_loss,val_mae\n"
     ]
    },
    {
     "name": "stdout",
     "output_type": "stream",
     "text": [
      "31/31 [==============================] - 12s 385ms/step - loss: 415581.4688 - mae: 524.8206 - val_loss: 225410.7812 - val_mae: 474.2114\n",
      "Epoch 28/50\n",
      "31/31 [==============================] - ETA: 0s - loss: 431009.3438 - mae: 536.6484"
     ]
    },
    {
     "name": "stderr",
     "output_type": "stream",
     "text": [
      "WARNING:tensorflow:Early stopping conditioned on metric `accuracy` which is not available. Available metrics are: loss,mae,val_loss,val_mae\n"
     ]
    },
    {
     "name": "stdout",
     "output_type": "stream",
     "text": [
      "31/31 [==============================] - 12s 385ms/step - loss: 431009.3438 - mae: 536.6484 - val_loss: 229586.1250 - val_mae: 478.5936\n",
      "Epoch 29/50\n",
      "31/31 [==============================] - ETA: 0s - loss: 407349.5938 - mae: 513.4894"
     ]
    },
    {
     "name": "stderr",
     "output_type": "stream",
     "text": [
      "WARNING:tensorflow:Early stopping conditioned on metric `accuracy` which is not available. Available metrics are: loss,mae,val_loss,val_mae\n"
     ]
    },
    {
     "name": "stdout",
     "output_type": "stream",
     "text": [
      "31/31 [==============================] - 12s 385ms/step - loss: 407349.5938 - mae: 513.4894 - val_loss: 258187.3438 - val_mae: 507.5956\n",
      "Epoch 30/50\n",
      "31/31 [==============================] - ETA: 0s - loss: 410012.0625 - mae: 519.5787"
     ]
    },
    {
     "name": "stderr",
     "output_type": "stream",
     "text": [
      "WARNING:tensorflow:Early stopping conditioned on metric `accuracy` which is not available. Available metrics are: loss,mae,val_loss,val_mae\n"
     ]
    },
    {
     "name": "stdout",
     "output_type": "stream",
     "text": [
      "31/31 [==============================] - 12s 386ms/step - loss: 410012.0625 - mae: 519.5787 - val_loss: 175246.1250 - val_mae: 417.9859\n",
      "Epoch 31/50\n",
      "31/31 [==============================] - ETA: 0s - loss: 431480.6562 - mae: 537.1284"
     ]
    },
    {
     "name": "stderr",
     "output_type": "stream",
     "text": [
      "WARNING:tensorflow:Early stopping conditioned on metric `accuracy` which is not available. Available metrics are: loss,mae,val_loss,val_mae\n"
     ]
    },
    {
     "name": "stdout",
     "output_type": "stream",
     "text": [
      "31/31 [==============================] - 12s 385ms/step - loss: 431480.6562 - mae: 537.1284 - val_loss: 229720.9062 - val_mae: 478.7346\n",
      "Epoch 32/50\n",
      "31/31 [==============================] - ETA: 0s - loss: 400155.0625 - mae: 507.8636"
     ]
    },
    {
     "name": "stderr",
     "output_type": "stream",
     "text": [
      "WARNING:tensorflow:Early stopping conditioned on metric `accuracy` which is not available. Available metrics are: loss,mae,val_loss,val_mae\n"
     ]
    },
    {
     "name": "stdout",
     "output_type": "stream",
     "text": [
      "31/31 [==============================] - 12s 386ms/step - loss: 400155.0625 - mae: 507.8636 - val_loss: 154931.8438 - val_mae: 392.9346\n",
      "Epoch 33/50\n",
      "31/31 [==============================] - ETA: 0s - loss: 384292.7812 - mae: 501.6375"
     ]
    },
    {
     "name": "stderr",
     "output_type": "stream",
     "text": [
      "WARNING:tensorflow:Early stopping conditioned on metric `accuracy` which is not available. Available metrics are: loss,mae,val_loss,val_mae\n"
     ]
    },
    {
     "name": "stdout",
     "output_type": "stream",
     "text": [
      "31/31 [==============================] - 12s 385ms/step - loss: 384292.7812 - mae: 501.6375 - val_loss: 180895.7188 - val_mae: 424.6898\n",
      "Epoch 34/50\n",
      "31/31 [==============================] - ETA: 0s - loss: 369354.3125 - mae: 489.4622"
     ]
    },
    {
     "name": "stderr",
     "output_type": "stream",
     "text": [
      "WARNING:tensorflow:Early stopping conditioned on metric `accuracy` which is not available. Available metrics are: loss,mae,val_loss,val_mae\n"
     ]
    },
    {
     "name": "stdout",
     "output_type": "stream",
     "text": [
      "31/31 [==============================] - 12s 385ms/step - loss: 369354.3125 - mae: 489.4622 - val_loss: 164349.9688 - val_mae: 404.7428\n",
      "Epoch 35/50\n",
      "31/31 [==============================] - ETA: 0s - loss: 374272.6875 - mae: 499.2898"
     ]
    },
    {
     "name": "stderr",
     "output_type": "stream",
     "text": [
      "WARNING:tensorflow:Early stopping conditioned on metric `accuracy` which is not available. Available metrics are: loss,mae,val_loss,val_mae\n"
     ]
    },
    {
     "name": "stdout",
     "output_type": "stream",
     "text": [
      "31/31 [==============================] - 12s 383ms/step - loss: 374272.6875 - mae: 499.2898 - val_loss: 105043.2344 - val_mae: 323.2785\n",
      "Epoch 36/50\n",
      "31/31 [==============================] - ETA: 0s - loss: 392270.7812 - mae: 505.4323"
     ]
    },
    {
     "name": "stderr",
     "output_type": "stream",
     "text": [
      "WARNING:tensorflow:Early stopping conditioned on metric `accuracy` which is not available. Available metrics are: loss,mae,val_loss,val_mae\n"
     ]
    },
    {
     "name": "stdout",
     "output_type": "stream",
     "text": [
      "31/31 [==============================] - 12s 384ms/step - loss: 392270.7812 - mae: 505.4323 - val_loss: 218432.2188 - val_mae: 466.7956\n",
      "Epoch 37/50\n",
      "31/31 [==============================] - ETA: 0s - loss: 378799.3438 - mae: 503.4739"
     ]
    },
    {
     "name": "stderr",
     "output_type": "stream",
     "text": [
      "WARNING:tensorflow:Early stopping conditioned on metric `accuracy` which is not available. Available metrics are: loss,mae,val_loss,val_mae\n"
     ]
    },
    {
     "name": "stdout",
     "output_type": "stream",
     "text": [
      "31/31 [==============================] - 12s 383ms/step - loss: 378799.3438 - mae: 503.4739 - val_loss: 84520.9688 - val_mae: 289.8055\n",
      "Epoch 38/50\n",
      "31/31 [==============================] - ETA: 0s - loss: 349215.5938 - mae: 478.0935"
     ]
    },
    {
     "name": "stderr",
     "output_type": "stream",
     "text": [
      "WARNING:tensorflow:Early stopping conditioned on metric `accuracy` which is not available. Available metrics are: loss,mae,val_loss,val_mae\n"
     ]
    },
    {
     "name": "stdout",
     "output_type": "stream",
     "text": [
      "31/31 [==============================] - 11s 367ms/step - loss: 349215.5938 - mae: 478.0935 - val_loss: 127397.3828 - val_mae: 356.1805\n",
      "Epoch 39/50\n",
      "31/31 [==============================] - ETA: 0s - loss: 340636.4375 - mae: 470.3142"
     ]
    },
    {
     "name": "stderr",
     "output_type": "stream",
     "text": [
      "WARNING:tensorflow:Early stopping conditioned on metric `accuracy` which is not available. Available metrics are: loss,mae,val_loss,val_mae\n"
     ]
    },
    {
     "name": "stdout",
     "output_type": "stream",
     "text": [
      "31/31 [==============================] - 12s 384ms/step - loss: 340636.4375 - mae: 470.3142 - val_loss: 69368.5078 - val_mae: 262.3592\n",
      "Epoch 40/50\n",
      "31/31 [==============================] - ETA: 0s - loss: 329817.6875 - mae: 464.1160"
     ]
    },
    {
     "name": "stderr",
     "output_type": "stream",
     "text": [
      "WARNING:tensorflow:Early stopping conditioned on metric `accuracy` which is not available. Available metrics are: loss,mae,val_loss,val_mae\n"
     ]
    },
    {
     "name": "stdout",
     "output_type": "stream",
     "text": [
      "31/31 [==============================] - 12s 383ms/step - loss: 329817.6875 - mae: 464.1160 - val_loss: 129165.0234 - val_mae: 358.6466\n",
      "Epoch 41/50\n",
      "31/31 [==============================] - ETA: 0s - loss: 326582.9688 - mae: 464.9326"
     ]
    },
    {
     "name": "stderr",
     "output_type": "stream",
     "text": [
      "WARNING:tensorflow:Early stopping conditioned on metric `accuracy` which is not available. Available metrics are: loss,mae,val_loss,val_mae\n"
     ]
    },
    {
     "name": "stdout",
     "output_type": "stream",
     "text": [
      "31/31 [==============================] - 12s 384ms/step - loss: 326582.9688 - mae: 464.9326 - val_loss: 158249.5781 - val_mae: 397.1340\n",
      "Epoch 42/50\n",
      "31/31 [==============================] - ETA: 0s - loss: 342427.7812 - mae: 469.8493"
     ]
    },
    {
     "name": "stderr",
     "output_type": "stream",
     "text": [
      "WARNING:tensorflow:Early stopping conditioned on metric `accuracy` which is not available. Available metrics are: loss,mae,val_loss,val_mae\n"
     ]
    },
    {
     "name": "stdout",
     "output_type": "stream",
     "text": [
      "31/31 [==============================] - 12s 383ms/step - loss: 342427.7812 - mae: 469.8493 - val_loss: 96418.6953 - val_mae: 309.6545\n",
      "Epoch 43/50\n",
      "31/31 [==============================] - ETA: 0s - loss: 341173.1562 - mae: 471.5871"
     ]
    },
    {
     "name": "stderr",
     "output_type": "stream",
     "text": [
      "WARNING:tensorflow:Early stopping conditioned on metric `accuracy` which is not available. Available metrics are: loss,mae,val_loss,val_mae\n"
     ]
    },
    {
     "name": "stdout",
     "output_type": "stream",
     "text": [
      "31/31 [==============================] - 12s 383ms/step - loss: 341173.1562 - mae: 471.5871 - val_loss: 22090.5566 - val_mae: 146.8268\n",
      "Epoch 44/50\n",
      "31/31 [==============================] - ETA: 0s - loss: 342665.1250 - mae: 475.2954"
     ]
    },
    {
     "name": "stderr",
     "output_type": "stream",
     "text": [
      "WARNING:tensorflow:Early stopping conditioned on metric `accuracy` which is not available. Available metrics are: loss,mae,val_loss,val_mae\n"
     ]
    },
    {
     "name": "stdout",
     "output_type": "stream",
     "text": [
      "31/31 [==============================] - 12s 384ms/step - loss: 342665.1250 - mae: 475.2954 - val_loss: 113977.6484 - val_mae: 336.8206\n",
      "Epoch 45/50\n",
      "31/31 [==============================] - ETA: 0s - loss: 338363.8750 - mae: 473.3852"
     ]
    },
    {
     "name": "stderr",
     "output_type": "stream",
     "text": [
      "WARNING:tensorflow:Early stopping conditioned on metric `accuracy` which is not available. Available metrics are: loss,mae,val_loss,val_mae\n"
     ]
    },
    {
     "name": "stdout",
     "output_type": "stream",
     "text": [
      "31/31 [==============================] - 12s 386ms/step - loss: 338363.8750 - mae: 473.3852 - val_loss: 28484.5801 - val_mae: 167.1938\n",
      "Epoch 46/50\n",
      "31/31 [==============================] - ETA: 0s - loss: 330282.3438 - mae: 462.6809"
     ]
    },
    {
     "name": "stderr",
     "output_type": "stream",
     "text": [
      "WARNING:tensorflow:Early stopping conditioned on metric `accuracy` which is not available. Available metrics are: loss,mae,val_loss,val_mae\n"
     ]
    },
    {
     "name": "stdout",
     "output_type": "stream",
     "text": [
      "31/31 [==============================] - 12s 385ms/step - loss: 330282.3438 - mae: 462.6809 - val_loss: 137642.6406 - val_mae: 370.2836\n",
      "Epoch 47/50\n",
      "31/31 [==============================] - ETA: 0s - loss: 309899.8750 - mae: 451.0557"
     ]
    },
    {
     "name": "stderr",
     "output_type": "stream",
     "text": [
      "WARNING:tensorflow:Early stopping conditioned on metric `accuracy` which is not available. Available metrics are: loss,mae,val_loss,val_mae\n"
     ]
    },
    {
     "name": "stdout",
     "output_type": "stream",
     "text": [
      "31/31 [==============================] - 11s 370ms/step - loss: 309899.8750 - mae: 451.0557 - val_loss: 55869.9961 - val_mae: 235.2259\n",
      "Epoch 48/50\n",
      "31/31 [==============================] - ETA: 0s - loss: 349928.0938 - mae: 481.6690"
     ]
    },
    {
     "name": "stderr",
     "output_type": "stream",
     "text": [
      "WARNING:tensorflow:Early stopping conditioned on metric `accuracy` which is not available. Available metrics are: loss,mae,val_loss,val_mae\n"
     ]
    },
    {
     "name": "stdout",
     "output_type": "stream",
     "text": [
      "31/31 [==============================] - 11s 371ms/step - loss: 349928.0938 - mae: 481.6690 - val_loss: 48142.4258 - val_mae: 218.2018\n",
      "Epoch 49/50\n",
      "31/31 [==============================] - ETA: 0s - loss: 304422.7812 - mae: 449.0224"
     ]
    },
    {
     "name": "stderr",
     "output_type": "stream",
     "text": [
      "WARNING:tensorflow:Early stopping conditioned on metric `accuracy` which is not available. Available metrics are: loss,mae,val_loss,val_mae\n"
     ]
    },
    {
     "name": "stdout",
     "output_type": "stream",
     "text": [
      "31/31 [==============================] - 12s 385ms/step - loss: 304422.7812 - mae: 449.0224 - val_loss: 87296.1875 - val_mae: 294.5941\n",
      "Epoch 50/50\n",
      "31/31 [==============================] - ETA: 0s - loss: 326269.1562 - mae: 460.6003"
     ]
    },
    {
     "name": "stderr",
     "output_type": "stream",
     "text": [
      "WARNING:tensorflow:Early stopping conditioned on metric `accuracy` which is not available. Available metrics are: loss,mae,val_loss,val_mae\n"
     ]
    },
    {
     "name": "stdout",
     "output_type": "stream",
     "text": [
      "31/31 [==============================] - 12s 384ms/step - loss: 326269.1562 - mae: 460.6003 - val_loss: 19331.8984 - val_mae: 137.1703\n",
      "8/8 [==============================] - 1s 102ms/step - loss: 19331.8984 - mae: 137.1703\n",
      "Test loss: 19331.8984375\n",
      "Test means absolute error: 137.17025756835938\n"
     ]
    }
   ],
   "source": [
    "# Fine Tuning\n",
    "\n",
    "#Changing model.trainable to true\n",
    "base_model.trainable = True\n",
    "\n",
    "#Adding layers to the model \n",
    "model.add(layers.Dense(50, activation='relu'))\n",
    "model.add(layers.Dropout(0.5))\n",
    "model.add(layers.Dense(25, activation='relu'))\n",
    "model.add(layers.Dropout(0.25))\n",
    "model.add(layers.Dense(1, activation='linear'))\n",
    "\n",
    "\n",
    "#Compiling the model\n",
    "model.compile(tf.keras.optimizers.RMSprop(\n",
    "    learning_rate = 0.0001,\n",
    "    momentum = 0.1,\n",
    "),\n",
    "             loss='mse',\n",
    "             metrics=['mae'])\n",
    "\n",
    "# The below will stop the training when there is no improvement in the loss for three consecutive epochs.\n",
    "es = EarlyStopping(monitor='accuracy', patience=3)\n",
    "\n",
    "# Data Normalization\n",
    "X_train = X_train / 255.0\n",
    "X_test = X_test / 255.0\n",
    "\n",
    "history = model.fit(X_train, y_train, batch_size=32, epochs=50, callbacks=[es], \n",
    "                    validation_data=(X_test,y_test))\n",
    "\n",
    "new_score = model.evaluate(X_test, y_test)\n",
    "print('Test loss:', new_score[0])\n",
    "print('Test means absolute error:', new_score[1])\n"
   ]
  },
  {
   "cell_type": "code",
   "execution_count": 45,
   "metadata": {
    "colab": {
     "base_uri": "https://localhost:8080/",
     "height": 307
    },
    "id": "_igmBibTryUe",
    "outputId": "de1c3f5f-f146-4198-9402-2fb0d09c95d5"
   },
   "outputs": [
    {
     "data": {
      "text/plain": [
       "Text(0, 0.5, 'Loss')"
      ]
     },
     "execution_count": 45,
     "metadata": {},
     "output_type": "execute_result"
    },
    {
     "data": {
      "image/png": "[encoded data removed]",
      "text/plain": [
       "<Figure size 432x288 with 1 Axes>"
      ]
     },
     "metadata": {
      "needs_background": "light"
     },
     "output_type": "display_data"
    }
   ],
   "source": [
    "#Visualisation for training and validation loss\n",
    "loss_train = history.history['loss']\n",
    "loss_val = history.history['val_loss']\n",
    "epochs = range(1,51)\n",
    "plt.plot(epochs, loss_train, 'g', label='Training loss')\n",
    "plt.plot(epochs, loss_val, 'b', label='validation loss')\n",
    "plt.xlabel('Epochs')\n",
    "plt.ylabel('Loss')\n"
   ]
  },
  {
   "cell_type": "code",
   "execution_count": 46,
   "metadata": {
    "colab": {
     "base_uri": "https://localhost:8080/",
     "height": 296
    },
    "id": "Y3D6hYIlZMOt",
    "outputId": "d76bd863-d312-4776-a62e-65b367e80293"
   },
   "outputs": [
    {
     "data": {
      "text/plain": [
       "Text(0, 0.5, 'MAE')"
      ]
     },
     "execution_count": 46,
     "metadata": {},
     "output_type": "execute_result"
    },
    {
     "data": {
      "image/png": "[encoded data removed]",
      "text/plain": [
       "<Figure size 432x288 with 1 Axes>"
      ]
     },
     "metadata": {
      "needs_background": "light"
     },
     "output_type": "display_data"
    }
   ],
   "source": [
    "#Visualisation for mean absolute error for training and validation\n",
    "loss_train = history.history['mae']\n",
    "loss_val = history.history['val_mae']\n",
    "epochs = range(1,51)\n",
    "plt.plot(epochs, loss_train, 'g', label='Training loss')\n",
    "plt.plot(epochs, loss_val, 'b', label='validation loss')\n",
    "plt.xlabel('Epochs')\n",
    "plt.ylabel('MAE')\n"
   ]
  },
  {
   "cell_type": "markdown",
   "metadata": {},
   "source": [
    "After fine-tuning it was seen that the model faced a little bit of overfitting. The reason can be the dataset being the quality of dataset. Sometimes using multiple layers in an NN model can result in overfitting the model. Instead, our first model where we used only single layer worked well for this data."
   ]
  },
  {
   "cell_type": "markdown",
   "metadata": {},
   "source": [
    "<b>References</b>\n",
    "https://keras.io/guides/transfer_learning/"
   ]
  }
 ],
 "metadata": {
  "accelerator": "GPU",
  "colab": {
   "provenance": []
  },
  "gpuClass": "standard",
  "kernelspec": {
   "display_name": "Python 3 (ipykernel)",
   "language": "python",
   "name": "python3"
  },
  "language_info": {
   "codemirror_mode": {
    "name": "ipython",
    "version": 3
   },
   "file_extension": ".py",
   "mimetype": "text/x-python",
   "name": "python",
   "nbconvert_exporter": "python",
   "pygments_lexer": "ipython3",
   "version": "3.10.5"
  }
 },
 "nbformat": 4,
 "nbformat_minor": 1
}
